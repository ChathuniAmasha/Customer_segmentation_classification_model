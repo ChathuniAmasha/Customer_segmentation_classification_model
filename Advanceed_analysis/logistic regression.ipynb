{
 "cells": [
  {
   "cell_type": "code",
   "execution_count": 1,
   "id": "80ae24d7",
   "metadata": {},
   "outputs": [
    {
     "data": {
      "text/html": [
       "<div>\n",
       "<style scoped>\n",
       "    .dataframe tbody tr th:only-of-type {\n",
       "        vertical-align: middle;\n",
       "    }\n",
       "\n",
       "    .dataframe tbody tr th {\n",
       "        vertical-align: top;\n",
       "    }\n",
       "\n",
       "    .dataframe thead th {\n",
       "        text-align: right;\n",
       "    }\n",
       "</style>\n",
       "<table border=\"1\" class=\"dataframe\">\n",
       "  <thead>\n",
       "    <tr style=\"text-align: right;\">\n",
       "      <th></th>\n",
       "      <th>Gender</th>\n",
       "      <th>Ever_Married</th>\n",
       "      <th>Age</th>\n",
       "      <th>Graduated</th>\n",
       "      <th>Profession</th>\n",
       "      <th>Work_Experience</th>\n",
       "      <th>Spending_Score</th>\n",
       "      <th>Family_Size</th>\n",
       "      <th>Var_1</th>\n",
       "      <th>Segmentation</th>\n",
       "      <th>Multivariate_Outlier</th>\n",
       "    </tr>\n",
       "  </thead>\n",
       "  <tbody>\n",
       "    <tr>\n",
       "      <th>0</th>\n",
       "      <td>Male</td>\n",
       "      <td>No</td>\n",
       "      <td>42</td>\n",
       "      <td>Yes</td>\n",
       "      <td>Artist</td>\n",
       "      <td>8.0</td>\n",
       "      <td>Low</td>\n",
       "      <td>1.0</td>\n",
       "      <td>Cat_6</td>\n",
       "      <td>A</td>\n",
       "      <td>False</td>\n",
       "    </tr>\n",
       "    <tr>\n",
       "      <th>1</th>\n",
       "      <td>Male</td>\n",
       "      <td>Yes</td>\n",
       "      <td>43</td>\n",
       "      <td>Yes</td>\n",
       "      <td>Artist</td>\n",
       "      <td>2.0</td>\n",
       "      <td>Average</td>\n",
       "      <td>4.0</td>\n",
       "      <td>Cat_3</td>\n",
       "      <td>C</td>\n",
       "      <td>False</td>\n",
       "    </tr>\n",
       "    <tr>\n",
       "      <th>2</th>\n",
       "      <td>Female</td>\n",
       "      <td>Yes</td>\n",
       "      <td>59</td>\n",
       "      <td>No</td>\n",
       "      <td>Marketing</td>\n",
       "      <td>1.0</td>\n",
       "      <td>Average</td>\n",
       "      <td>4.0</td>\n",
       "      <td>Cat_1</td>\n",
       "      <td>D</td>\n",
       "      <td>False</td>\n",
       "    </tr>\n",
       "    <tr>\n",
       "      <th>3</th>\n",
       "      <td>Female</td>\n",
       "      <td>Yes</td>\n",
       "      <td>65</td>\n",
       "      <td>No</td>\n",
       "      <td>Engineer</td>\n",
       "      <td>1.0</td>\n",
       "      <td>Average</td>\n",
       "      <td>3.0</td>\n",
       "      <td>Cat_6</td>\n",
       "      <td>A</td>\n",
       "      <td>False</td>\n",
       "    </tr>\n",
       "    <tr>\n",
       "      <th>4</th>\n",
       "      <td>Female</td>\n",
       "      <td>No</td>\n",
       "      <td>69</td>\n",
       "      <td>Yes</td>\n",
       "      <td>Lawyer</td>\n",
       "      <td>1.0</td>\n",
       "      <td>Low</td>\n",
       "      <td>5.0</td>\n",
       "      <td>Cat_6</td>\n",
       "      <td>D</td>\n",
       "      <td>False</td>\n",
       "    </tr>\n",
       "  </tbody>\n",
       "</table>\n",
       "</div>"
      ],
      "text/plain": [
       "   Gender Ever_Married  Age Graduated Profession  Work_Experience  \\\n",
       "0    Male           No   42       Yes     Artist              8.0   \n",
       "1    Male          Yes   43       Yes     Artist              2.0   \n",
       "2  Female          Yes   59        No  Marketing              1.0   \n",
       "3  Female          Yes   65        No   Engineer              1.0   \n",
       "4  Female           No   69       Yes     Lawyer              1.0   \n",
       "\n",
       "  Spending_Score  Family_Size  Var_1 Segmentation  Multivariate_Outlier  \n",
       "0            Low          1.0  Cat_6            A                 False  \n",
       "1        Average          4.0  Cat_3            C                 False  \n",
       "2        Average          4.0  Cat_1            D                 False  \n",
       "3        Average          3.0  Cat_6            A                 False  \n",
       "4            Low          5.0  Cat_6            D                 False  "
      ]
     },
     "execution_count": 1,
     "metadata": {},
     "output_type": "execute_result"
    }
   ],
   "source": [
    "import pandas as pd\n",
    "\n",
    "# Load CSV file\n",
    "Dataset_Train = pd.read_csv('F:/UOC/Level 4/Machine learning/Data analysis project 2/Dataset_Train_Final.csv')\n",
    "Dataset_Test = pd.read_csv('F:/UOC/Level 4/Machine learning/Data analysis project 2/Dataset_Test_Final.csv')\n",
    "\n",
    "# Display first 5 rows\n",
    "Dataset_Train.head()\n",
    "Dataset_Test.head()"
   ]
  },
  {
   "cell_type": "code",
   "execution_count": 2,
   "id": "b988819b",
   "metadata": {},
   "outputs": [],
   "source": [
    "Dataset_Train.drop(\"Multivariate_Outlier\", axis=1, inplace=True)\n",
    "Dataset_Test.drop(\"Multivariate_Outlier\", axis=1, inplace=True)"
   ]
  },
  {
   "cell_type": "code",
   "execution_count": 3,
   "id": "0bbad4c6",
   "metadata": {},
   "outputs": [],
   "source": [
    "Dataset_Train = Dataset_Train.drop('Gender', axis=1)\n",
    "Dataset_Test = Dataset_Test.drop('Gender', axis=1)"
   ]
  },
  {
   "cell_type": "code",
   "execution_count": 4,
   "id": "d4cc47fe",
   "metadata": {},
   "outputs": [
    {
     "name": "stdout",
     "output_type": "stream",
     "text": [
      "Profession\n",
      "Artist           2775\n",
      "Healthcare       1402\n",
      "Entertainment    1008\n",
      "Engineer          741\n",
      "Doctor            737\n",
      "Lawyer            680\n",
      "Executive         604\n",
      "Marketing         323\n",
      "Homemaker         255\n",
      "Name: count, dtype: int64\n",
      "\n",
      "🔹 Profession distribution after reduction:\n",
      "Profession\n",
      "Artist           2775\n",
      "Healthcare       1402\n",
      "Entertainment    1008\n",
      "Engineer          741\n",
      "Doctor            737\n",
      "Lawyer            680\n",
      "Executive         604\n",
      "Marketing         323\n",
      "Homemaker         255\n",
      "Name: count, dtype: int64\n"
     ]
    }
   ],
   "source": [
    "#reducing the categories of profession variable\n",
    "# Step 1: View the frequency of each profession\n",
    "profession_counts = Dataset_Train['Profession'].value_counts()\n",
    "print(profession_counts)\n",
    "\n",
    "# Step 2: Define a threshold - professions with less than this count will be grouped as 'Other'\n",
    "threshold = 100  # You can adjust this threshold based on your dataset size\n",
    "\n",
    "# Step 3: Create a list of professions to keep\n",
    "common_professions = profession_counts[profession_counts >= threshold].index.tolist()\n",
    "\n",
    "# Step 4: Apply transformation to both training and test datasets\n",
    "def reduce_professions(df):\n",
    "    df['Profession'] = df['Profession'].apply(lambda x: x if x in common_professions else 'Other')\n",
    "    return df\n",
    "\n",
    "# Apply to both datasets\n",
    "Dataset_Train = reduce_professions(Dataset_Train)\n",
    "Dataset_Test = reduce_professions(Dataset_Test)\n",
    "\n",
    "# Optional: Re-check new distribution\n",
    "print(\"\\n🔹 Profession distribution after reduction:\")\n",
    "print(Dataset_Train['Profession'].value_counts())\n"
   ]
  },
  {
   "cell_type": "code",
   "execution_count": 5,
   "id": "c8fc2538",
   "metadata": {},
   "outputs": [],
   "source": [
    "# Bin 'Age' into categories\n",
    "age_bins = [0, 18, 35, 50, 65, 100]\n",
    "age_labels = ['<18', '18-35', '36-50', '51-65', '65+']\n",
    "Dataset_Train['Age_Binned'] = pd.cut(Dataset_Train['Age'], bins=age_bins, labels=age_labels, right=False)\n",
    "Dataset_Test['Age_Binned'] = pd.cut(Dataset_Test['Age'], bins=age_bins, labels=age_labels, right=False)\n"
   ]
  },
  {
   "cell_type": "code",
   "execution_count": 6,
   "id": "5f6ae033",
   "metadata": {},
   "outputs": [],
   "source": [
    "Dataset_Train = Dataset_Train.drop('Age', axis=1)\n",
    "Dataset_Test = Dataset_Test.drop('Age', axis=1)"
   ]
  },
  {
   "cell_type": "code",
   "execution_count": 7,
   "id": "30364621",
   "metadata": {},
   "outputs": [],
   "source": [
    "# Convert object columns to category and bool columns to numeric (0/1) in both datasets\n",
    "for df in [Dataset_Train, Dataset_Test]:\n",
    "    obj_cols = df.select_dtypes(include='object').columns\n",
    "    bool_cols = df.select_dtypes(include='bool').columns\n",
    "    df[obj_cols] = df[obj_cols].astype('category')\n",
    "    df[bool_cols] = df[bool_cols].astype('int')"
   ]
  },
  {
   "cell_type": "code",
   "execution_count": 8,
   "id": "bf9d761e",
   "metadata": {},
   "outputs": [
    {
     "name": "stdout",
     "output_type": "stream",
     "text": [
      "🔹 Class Counts:\n",
      "Segmentation\n",
      "D    2406\n",
      "A    2250\n",
      "C    1947\n",
      "B    1922\n",
      "Name: count, dtype: int64\n",
      "\n",
      "🔹 Class Percentages:\n",
      "Segmentation\n",
      "D    28.22\n",
      "A    26.39\n",
      "C    22.84\n",
      "B    22.55\n",
      "Name: proportion, dtype: float64\n"
     ]
    },
    {
     "name": "stderr",
     "output_type": "stream",
     "text": [
      "C:\\Users\\acer\\AppData\\Local\\Temp\\ipykernel_4452\\3542477272.py:17: FutureWarning: \n",
      "\n",
      "Passing `palette` without assigning `hue` is deprecated and will be removed in v0.14.0. Assign the `x` variable to `hue` and set `legend=False` for the same effect.\n",
      "\n",
      "  sns.countplot(x='Segmentation', data=Dataset_Train, palette='Set2')\n"
     ]
    },
    {
     "data": {
      "image/png": "[encoded data removed]",
      "text/plain": [
       "<Figure size 800x500 with 1 Axes>"
      ]
     },
     "metadata": {},
     "output_type": "display_data"
    }
   ],
   "source": [
    "import pandas as pd\n",
    "import matplotlib.pyplot as plt\n",
    "import seaborn as sns\n",
    "\n",
    "# Count the number of instances in each class\n",
    "class_counts = Dataset_Train['Segmentation'].value_counts()\n",
    "class_percentages = Dataset_Train['Segmentation'].value_counts(normalize=True) * 100\n",
    "\n",
    "# Display results\n",
    "print(\"🔹 Class Counts:\")\n",
    "print(class_counts)\n",
    "print(\"\\n🔹 Class Percentages:\")\n",
    "print(class_percentages.round(2))\n",
    "\n",
    "# Plot class distribution\n",
    "plt.figure(figsize=(8, 5))\n",
    "sns.countplot(x='Segmentation', data=Dataset_Train, palette='Set2')\n",
    "plt.title(\"Class Distribution in Training Set\")\n",
    "plt.xlabel(\"Segment\")\n",
    "plt.ylabel(\"Count\")\n",
    "plt.tight_layout()\n",
    "plt.show()\n"
   ]
  },
  {
   "cell_type": "code",
   "execution_count": 9,
   "id": "cb59ab10",
   "metadata": {},
   "outputs": [
    {
     "name": "stdout",
     "output_type": "stream",
     "text": [
      "✅ Class distribution after SMOTE:\n",
      "Segmentation\n",
      "A    2406\n",
      "B    2406\n",
      "C    2406\n",
      "D    2406\n",
      "Name: count, dtype: int64\n"
     ]
    }
   ],
   "source": [
    "import pandas as pd\n",
    "from imblearn.over_sampling import SMOTE\n",
    "from sklearn.preprocessing import StandardScaler, OneHotEncoder\n",
    "from sklearn.compose import ColumnTransformer\n",
    "from sklearn.pipeline import Pipeline\n",
    "from sklearn.model_selection import train_test_split\n",
    "\n",
    "# Assuming your data is already loaded in Dataset_Train\n",
    "X = Dataset_Train.drop(columns=['Segmentation'])\n",
    "y = Dataset_Train['Segmentation']\n",
    "\n",
    "# Split train/test if needed (optional)\n",
    "# X_train, X_val, y_train, y_val = train_test_split(X, y, stratify=y, test_size=0.2, random_state=42)\n",
    "\n",
    "# 1. Identify column types\n",
    "numeric_cols = X.select_dtypes(include=['number']).columns.tolist()\n",
    "categorical_cols = X.select_dtypes(include=['object', 'category']).columns.tolist()\n",
    "\n",
    "# 2. Preprocessor pipeline\n",
    "preprocessor = ColumnTransformer(transformers=[\n",
    "    ('num', StandardScaler(), numeric_cols),\n",
    "    ('cat', OneHotEncoder(drop='first', handle_unknown='ignore'), categorical_cols)\n",
    "])\n",
    "\n",
    "# 3. Fit preprocessor and transform features\n",
    "X_processed = preprocessor.fit_transform(X)\n",
    "\n",
    "# 4. Apply SMOTE\n",
    "smote = SMOTE(random_state=42)\n",
    "X_resampled, y_resampled = smote.fit_resample(X_processed, y)\n",
    "\n",
    "# 5. Optional: Check new class distribution\n",
    "print(\"✅ Class distribution after SMOTE:\")\n",
    "print(pd.Series(y_resampled).value_counts())\n",
    "\n",
    "# Now you can use X_resampled and y_resampled to train your models\n"
   ]
  },
  {
   "cell_type": "code",
   "execution_count": 10,
   "id": "ff413a1d",
   "metadata": {},
   "outputs": [
    {
     "name": "stderr",
     "output_type": "stream",
     "text": [
      "c:\\Users\\acer\\anaconda3\\Lib\\site-packages\\sklearn\\linear_model\\_logistic.py:1247: FutureWarning: 'multi_class' was deprecated in version 1.5 and will be removed in 1.7. From then on, it will always use 'multinomial'. Leave it to its default value to avoid this warning.\n",
      "  warnings.warn(\n"
     ]
    },
    {
     "name": "stdout",
     "output_type": "stream",
     "text": [
      "✅ Train Accuracy: 0.46373649210307566\n",
      "✅ Test Accuracy : 0.45121951219512196\n",
      "\n",
      "🔹 Classification Report (Test Data):\n",
      "              precision    recall  f1-score   support\n",
      "\n",
      "           A       0.40      0.41      0.40       563\n",
      "           B       0.31      0.24      0.27       480\n",
      "           C       0.44      0.53      0.48       487\n",
      "           D       0.59      0.60      0.59       602\n",
      "\n",
      "    accuracy                           0.45      2132\n",
      "   macro avg       0.44      0.44      0.44      2132\n",
      "weighted avg       0.44      0.45      0.45      2132\n",
      "\n"
     ]
    },
    {
     "data": {
      "image/png": "[encoded data removed]",
      "text/plain": [
       "<Figure size 640x480 with 2 Axes>"
      ]
     },
     "metadata": {},
     "output_type": "display_data"
    }
   ],
   "source": [
    "from sklearn.linear_model import LogisticRegression\n",
    "from sklearn.preprocessing import LabelEncoder\n",
    "from sklearn.metrics import accuracy_score, classification_report, confusion_matrix\n",
    "import matplotlib.pyplot as plt\n",
    "import seaborn as sns\n",
    "\n",
    "# 1. Encode target labels for logistic regression (optional if already numeric)\n",
    "le = LabelEncoder()\n",
    "y_resampled_encoded = le.fit_transform(y_resampled)\n",
    "\n",
    "# 2. Fit Logistic Regression model\n",
    "log_reg = LogisticRegression(multi_class='multinomial', solver='lbfgs', max_iter=1000, random_state=42)\n",
    "log_reg.fit(X_resampled, y_resampled_encoded)\n",
    "\n",
    "# 3. Predictions on training (resampled) data\n",
    "y_train_pred_encoded = log_reg.predict(X_resampled)\n",
    "y_train_pred = le.inverse_transform(y_train_pred_encoded)\n",
    "\n",
    "# 4. Process original test data\n",
    "X_test = Dataset_Test.drop(columns=['Segmentation'])\n",
    "y_test = Dataset_Test['Segmentation']\n",
    "X_test_processed = preprocessor.transform(X_test)\n",
    "\n",
    "# 5. Encode test labels and predict\n",
    "y_test_pred_encoded = log_reg.predict(X_test_processed)\n",
    "y_test_pred = le.inverse_transform(y_test_pred_encoded)\n",
    "\n",
    "# 6. Accuracy scores\n",
    "print(\"✅ Train Accuracy:\", accuracy_score(y_resampled, y_train_pred))\n",
    "print(\"✅ Test Accuracy :\", accuracy_score(y_test, y_test_pred))\n",
    "\n",
    "# 7. Classification report\n",
    "print(\"\\n🔹 Classification Report (Test Data):\")\n",
    "print(classification_report(y_test, y_test_pred))\n",
    "\n",
    "# 8. Confusion matrix\n",
    "cm = confusion_matrix(y_test, y_test_pred, labels=le.classes_)\n",
    "sns.heatmap(cm, annot=True, fmt='d', cmap='Blues', xticklabels=le.classes_, yticklabels=le.classes_)\n",
    "plt.title(\"Confusion Matrix - Logistic Regression (SMOTE)\")\n",
    "plt.xlabel(\"Predicted\")\n",
    "plt.ylabel(\"Actual\")\n",
    "plt.tight_layout()\n",
    "plt.show()\n"
   ]
  },
  {
   "cell_type": "code",
   "execution_count": null,
   "id": "38f517fc",
   "metadata": {},
   "outputs": [],
   "source": []
  }
 ],
 "metadata": {
  "kernelspec": {
   "display_name": "base",
   "language": "python",
   "name": "python3"
  },
  "language_info": {
   "codemirror_mode": {
    "name": "ipython",
    "version": 3
   },
   "file_extension": ".py",
   "mimetype": "text/x-python",
   "name": "python",
   "nbconvert_exporter": "python",
   "pygments_lexer": "ipython3",
   "version": "3.12.7"
  }
 },
 "nbformat": 4,
 "nbformat_minor": 5
}
